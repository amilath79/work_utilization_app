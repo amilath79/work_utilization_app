{
 "cells": [
  {
   "cell_type": "code",
   "execution_count": 6,
   "id": "71e391d0",
   "metadata": {},
   "outputs": [
    {
     "name": "stdout",
     "output_type": "stream",
     "text": [
      "2025-05-28 (Wed)\n"
     ]
    }
   ],
   "source": [
    "from datetime import date, timedelta\n",
    "\n",
    "DATE_FORMAT = \"%Y-%m-%d\"  # Define your desired format here\n",
    "today = date.today() + timedelta(days=1)\n",
    "today_str = f\"{today.strftime(DATE_FORMAT)} ({today.strftime('%a')})\"\n",
    "print(today_str)"
   ]
  }
 ],
 "metadata": {
  "kernelspec": {
   "display_name": "venv",
   "language": "python",
   "name": "python3"
  },
  "language_info": {
   "codemirror_mode": {
    "name": "ipython",
    "version": 3
   },
   "file_extension": ".py",
   "mimetype": "text/x-python",
   "name": "python",
   "nbconvert_exporter": "python",
   "pygments_lexer": "ipython3",
   "version": "3.13.2"
  }
 },
 "nbformat": 4,
 "nbformat_minor": 5
}
