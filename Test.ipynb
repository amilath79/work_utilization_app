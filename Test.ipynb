{
 "cells": [
  {
   "cell_type": "code",
   "execution_count": 4,
   "id": "d54c38a1",
   "metadata": {},
   "outputs": [],
   "source": [
    "from datetime import datetime, timedelta"
   ]
  },
  {
   "cell_type": "code",
   "execution_count": 16,
   "id": "9ddeb249",
   "metadata": {},
   "outputs": [
    {
     "name": "stdout",
     "output_type": "stream",
     "text": [
      "(False, None)\n"
     ]
    }
   ],
   "source": [
    "from datetime import datetime, date\n",
    "\n",
    "def get_swedish_holidays(start_year, end_year=None):\n",
    "    \"\"\"\n",
    "    Get a dictionary of Swedish holidays for the specified year range\n",
    "    \n",
    "    Parameters:\n",
    "    -----------\n",
    "    start_year : int\n",
    "        Start year\n",
    "    end_year : int, optional\n",
    "        End year, if different from start_year\n",
    "    \n",
    "    Returns:\n",
    "    --------\n",
    "    dict\n",
    "        Dictionary of holidays with dates as keys and holiday names as values\n",
    "    \"\"\"\n",
    "    if end_year is None:\n",
    "        end_year = start_year\n",
    "        \n",
    "    try:\n",
    "        # Import holidays library\n",
    "        try:\n",
    "            from holidays import Sweden\n",
    "        except ImportError:\n",
    "            print(f\"holidays package not installed. Install with: pip install holidays\")\n",
    "            return {}\n",
    "            \n",
    "        # Get Swedish holidays for the specified years\n",
    "        se_holidays = Sweden(years=range(start_year, end_year + 1))\n",
    "        return se_holidays\n",
    "    except Exception as e:\n",
    "        print(f\"Error getting Swedish holidays: {str(e)}\")\n",
    "        return {}\n",
    "\n",
    "def is_swedish_holiday(date):\n",
    "    \"\"\"\n",
    "    Check if a date is a Swedish holiday\n",
    "    \n",
    "    Parameters:\n",
    "    -----------\n",
    "    date : datetime.date or datetime.datetime\n",
    "        Date to check\n",
    "    \n",
    "    Returns:\n",
    "    --------\n",
    "    tuple\n",
    "        (is_holiday, holiday_name)\n",
    "    \"\"\"\n",
    "    try:\n",
    "        year = date.year\n",
    "        se_holidays = get_swedish_holidays(year)\n",
    "        \n",
    "        # Convert to datetime.date if it's a datetime\n",
    "        if isinstance(date, datetime):\n",
    "            date = date.date()\n",
    "            \n",
    "        if date in se_holidays:\n",
    "            return True, se_holidays[date]\n",
    "        else:\n",
    "            return False, None\n",
    "    except Exception as e:\n",
    "        print(f\"Error checking if date {date} is a Swedish holiday: {str(e)}\")\n",
    "        return False, None\n",
    "\n",
    "# Example usage\n",
    "date_str = '2025-01-04'  \n",
    "# Convert string to datetime.date object\n",
    "date_obj = datetime.strptime(date_str, '%Y-%m-%d').date()\n",
    "print(is_swedish_holiday(date_obj))"
   ]
  },
  {
   "cell_type": "code",
   "execution_count": null,
   "id": "4d058edd",
   "metadata": {},
   "outputs": [
    {
     "name": "stdout",
     "output_type": "stream",
     "text": [
      "(False, None)\n"
     ]
    }
   ],
   "source": [
    "date_str = '2025-0101'\n",
    "print(is_swedish_holiday(date_str))"
   ]
  }
 ],
 "metadata": {
  "kernelspec": {
   "display_name": "venv",
   "language": "python",
   "name": "python3"
  },
  "language_info": {
   "codemirror_mode": {
    "name": "ipython",
    "version": 3
   },
   "file_extension": ".py",
   "mimetype": "text/x-python",
   "name": "python",
   "nbconvert_exporter": "python",
   "pygments_lexer": "ipython3",
   "version": "3.13.2"
  }
 },
 "nbformat": 4,
 "nbformat_minor": 5
}
