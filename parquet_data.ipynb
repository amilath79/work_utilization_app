{
 "cells": [
  {
   "cell_type": "code",
   "execution_count": 1,
   "id": "871157b1",
   "metadata": {},
   "outputs": [],
   "source": [
    "import pandas as pd\n",
    "import pyodbc\n",
    "import os\n",
    "from datetime import datetime"
   ]
  },
  {
   "cell_type": "code",
   "execution_count": 2,
   "id": "24eb17c7",
   "metadata": {},
   "outputs": [],
   "source": [
    "### SQL Server Connection\n",
    "\n",
    "# SQL Server connection parameters - replace with your own values\n",
    "server = 'fsdhastp01'\n",
    "database = 'ABC'\n",
    "# use Windows Authentication\n",
    "username = 'YOUR_USERNAME'  \n",
    "password = 'YOUR_PASSWORD' \n",
    "trusted_connection = 'yes'  # Set to 'no' if using SQL Authentication"
   ]
  },
  {
   "cell_type": "code",
   "execution_count": 3,
   "id": "153b6454",
   "metadata": {},
   "outputs": [
    {
     "name": "stdout",
     "output_type": "stream",
     "text": [
      "Connected to SQL Server successfully!\n"
     ]
    }
   ],
   "source": [
    "# Create connection string\n",
    "if trusted_connection == 'yes':\n",
    "    conn_str = f'DRIVER={{SQL Server}};SERVER={server};DATABASE={database};Trusted_Connection=yes;'\n",
    "else:\n",
    "    conn_str = f'DRIVER={{SQL Server}};SERVER={server};DATABASE={database};UID={username};PWD={password};'\n",
    "\n",
    "# Create connection\n",
    "conn = pyodbc.connect(conn_str)\n",
    "\n",
    "print(\"Connected to SQL Server successfully!\")"
   ]
  },
  {
   "cell_type": "code",
   "execution_count": 4,
   "id": "6b3086d8",
   "metadata": {},
   "outputs": [],
   "source": [
    "query = \"\"\"select * from  WorkUtilizationData\"\"\""
   ]
  },
  {
   "cell_type": "code",
   "execution_count": 6,
   "id": "578c3ba0",
   "metadata": {},
   "outputs": [
    {
     "name": "stderr",
     "output_type": "stream",
     "text": [
      "C:\\Users\\amila.g\\AppData\\Local\\Temp\\ipykernel_22316\\3813686156.py:2: UserWarning: pandas only supports SQLAlchemy connectable (engine/connection) or database string URI or sqlite3 DBAPI2 connection. Other DBAPI2 objects are not tested. Please consider using SQLAlchemy.\n",
      "  df = pd.read_sql(query, conn)\n"
     ]
    },
    {
     "data": {
      "text/html": [
       "<div>\n",
       "<style scoped>\n",
       "    .dataframe tbody tr th:only-of-type {\n",
       "        vertical-align: middle;\n",
       "    }\n",
       "\n",
       "    .dataframe tbody tr th {\n",
       "        vertical-align: top;\n",
       "    }\n",
       "\n",
       "    .dataframe thead th {\n",
       "        text-align: right;\n",
       "    }\n",
       "</style>\n",
       "<table border=\"1\" class=\"dataframe\">\n",
       "  <thead>\n",
       "    <tr style=\"text-align: right;\">\n",
       "      <th></th>\n",
       "      <th>Date</th>\n",
       "      <th>PunchCode</th>\n",
       "      <th>WorkType</th>\n",
       "      <th>Hours</th>\n",
       "      <th>NoOfMan</th>\n",
       "      <th>SystemHours</th>\n",
       "      <th>Quantity</th>\n",
       "      <th>ResourceKPI</th>\n",
       "      <th>SystemKPI</th>\n",
       "    </tr>\n",
       "  </thead>\n",
       "  <tbody>\n",
       "    <tr>\n",
       "      <th>0</th>\n",
       "      <td>2019-07-01</td>\n",
       "      <td>211</td>\n",
       "      <td>211</td>\n",
       "      <td>48.76</td>\n",
       "      <td>6.09500</td>\n",
       "      <td>24.848333</td>\n",
       "      <td>2413</td>\n",
       "      <td>49.487284</td>\n",
       "      <td>97.109130</td>\n",
       "    </tr>\n",
       "    <tr>\n",
       "      <th>1</th>\n",
       "      <td>2019-07-01</td>\n",
       "      <td>214</td>\n",
       "      <td>214</td>\n",
       "      <td>64.40</td>\n",
       "      <td>8.05000</td>\n",
       "      <td>46.749444</td>\n",
       "      <td>33438</td>\n",
       "      <td>519.223602</td>\n",
       "      <td>715.259843</td>\n",
       "    </tr>\n",
       "    <tr>\n",
       "      <th>2</th>\n",
       "      <td>2019-07-02</td>\n",
       "      <td>213</td>\n",
       "      <td>213</td>\n",
       "      <td>60.63</td>\n",
       "      <td>7.57875</td>\n",
       "      <td>0.119444</td>\n",
       "      <td>20</td>\n",
       "      <td>0.329870</td>\n",
       "      <td>167.442484</td>\n",
       "    </tr>\n",
       "    <tr>\n",
       "      <th>3</th>\n",
       "      <td>2019-07-03</td>\n",
       "      <td>214</td>\n",
       "      <td>214</td>\n",
       "      <td>58.37</td>\n",
       "      <td>7.29625</td>\n",
       "      <td>41.465277</td>\n",
       "      <td>37104</td>\n",
       "      <td>635.669008</td>\n",
       "      <td>894.820984</td>\n",
       "    </tr>\n",
       "    <tr>\n",
       "      <th>4</th>\n",
       "      <td>2019-07-04</td>\n",
       "      <td>211</td>\n",
       "      <td>211</td>\n",
       "      <td>73.37</td>\n",
       "      <td>9.17125</td>\n",
       "      <td>31.783333</td>\n",
       "      <td>7269</td>\n",
       "      <td>99.073190</td>\n",
       "      <td>228.704774</td>\n",
       "    </tr>\n",
       "  </tbody>\n",
       "</table>\n",
       "</div>"
      ],
      "text/plain": [
       "         Date  PunchCode  WorkType  Hours  NoOfMan  SystemHours  Quantity  \\\n",
       "0  2019-07-01        211       211  48.76  6.09500    24.848333      2413   \n",
       "1  2019-07-01        214       214  64.40  8.05000    46.749444     33438   \n",
       "2  2019-07-02        213       213  60.63  7.57875     0.119444        20   \n",
       "3  2019-07-03        214       214  58.37  7.29625    41.465277     37104   \n",
       "4  2019-07-04        211       211  73.37  9.17125    31.783333      7269   \n",
       "\n",
       "   ResourceKPI   SystemKPI  \n",
       "0    49.487284   97.109130  \n",
       "1   519.223602  715.259843  \n",
       "2     0.329870  167.442484  \n",
       "3   635.669008  894.820984  \n",
       "4    99.073190  228.704774  "
      ]
     },
     "execution_count": 6,
     "metadata": {},
     "output_type": "execute_result"
    }
   ],
   "source": [
    "# Option 1: Export to CSV (correct extension)\n",
    "df = pd.read_sql(query, conn)\n",
    "df.to_excel(\"C:/forlogssystems/Data/exported_data.xlsx\", index=False)\n",
    "df_read = pd.read_excel(\"C:/forlogssystems/Data/exported_data.xlsx\")\n",
    "df_read.head()"
   ]
  },
  {
   "cell_type": "code",
   "execution_count": null,
   "id": "49b1d8b3",
   "metadata": {},
   "outputs": [],
   "source": [
    "df.to_parquet('work_utilization_data.parquet', compression='snappy')"
   ]
  }
 ],
 "metadata": {
  "kernelspec": {
   "display_name": "venv",
   "language": "python",
   "name": "python3"
  },
  "language_info": {
   "codemirror_mode": {
    "name": "ipython",
    "version": 3
   },
   "file_extension": ".py",
   "mimetype": "text/x-python",
   "name": "python",
   "nbconvert_exporter": "python",
   "pygments_lexer": "ipython3",
   "version": "3.13.2"
  }
 },
 "nbformat": 4,
 "nbformat_minor": 5
}
